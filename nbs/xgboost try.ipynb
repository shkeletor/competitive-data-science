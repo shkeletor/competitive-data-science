{
 "cells": [
  {
   "cell_type": "code",
   "execution_count": 60,
   "metadata": {},
   "outputs": [],
   "source": [
    "import pandas as pd\n",
    "import numpy as np\n",
    "import xgboost as xgb\n",
    "\n",
    "%matplotlib inline\n",
    "%config Completer.use_jedi = False\n"
   ]
  },
  {
   "cell_type": "code",
   "execution_count": 61,
   "metadata": {},
   "outputs": [],
   "source": [
    "ds = pd.read_feather('../data/train_for_test.ftr')"
   ]
  },
  {
   "cell_type": "code",
   "execution_count": 62,
   "metadata": {},
   "outputs": [
    {
     "name": "stdout",
     "output_type": "stream",
     "text": [
      "<class 'pandas.core.frame.DataFrame'>\n",
      "RangeIndex: 3646331 entries, 0 to 3646330\n",
      "Data columns (total 10 columns):\n",
      "date_block_num           category\n",
      "shop_id                  category\n",
      "item_id                  category\n",
      "item_cnt_month           float64\n",
      "item_price               float64\n",
      "year                     category\n",
      "month                    category\n",
      "item_cnt_month_lag_1     float64\n",
      "item_cnt_month_lag_2     float64\n",
      "item_cnt_month_lag_12    float64\n",
      "dtypes: category(5), float64(5)\n",
      "memory usage: 160.8 MB\n"
     ]
    }
   ],
   "source": [
    "ds.info()"
   ]
  },
  {
   "cell_type": "code",
   "execution_count": 139,
   "metadata": {},
   "outputs": [
    {
     "name": "stdout",
     "output_type": "stream",
     "text": [
      "<class 'pandas.core.frame.DataFrame'>\n",
      "Int64Index: 3423775 entries, 190353 to 3646329\n",
      "Data columns (total 4 columns):\n",
      "month                   category\n",
      "item_cnt_month_lag_1    float64\n",
      "item_cnt_month_lag_2    float64\n",
      "item_cnt_month          float64\n",
      "dtypes: category(1), float64(3)\n",
      "memory usage: 107.8 MB\n"
     ]
    }
   ],
   "source": [
    "dsmall=ds[['month','item_cnt_month_lag_1','item_cnt_month_lag_2','item_cnt_month']].dropna()\n",
    "dsmall.info()"
   ]
  },
  {
   "cell_type": "code",
   "execution_count": 140,
   "metadata": {},
   "outputs": [
    {
     "data": {
      "text/plain": [
       "array([[ 0.,  0.,  1., ...,  0.,  0.,  0.],\n",
       "       [ 0.,  0.,  1., ...,  0.,  0.,  0.],\n",
       "       [ 0.,  0.,  1., ...,  0.,  0.,  0.],\n",
       "       ..., \n",
       "       [ 0.,  0.,  0., ...,  0.,  0.,  0.],\n",
       "       [ 0.,  0.,  0., ...,  0.,  0.,  0.],\n",
       "       [ 0.,  0.,  0., ...,  0.,  0.,  0.]])"
      ]
     },
     "execution_count": 140,
     "metadata": {},
     "output_type": "execute_result"
    }
   ],
   "source": [
    "dclipped=dsmall.select_dtypes('float').clip(lower=0,upper=20)\n",
    "\n",
    "\n",
    "\n",
    "month_enc=pd.get_dummies(dsmall.month).values\n",
    "lags = dclipped[['item_cnt_month_lag_1','item_cnt_month_lag_2']].values\n",
    "\n",
    "X=np.concatenate((month_enc,lags),axis=1)\n",
    "y=dclipped.item_cnt_month.values\n",
    "\n",
    "X"
   ]
  },
  {
   "cell_type": "code",
   "execution_count": 141,
   "metadata": {},
   "outputs": [
    {
     "data": {
      "text/plain": [
       "array([ -2.90313452e+09,  -2.90313452e+09,  -2.90313452e+09,\n",
       "        -2.90313452e+09,  -2.90313452e+09,  -2.90313452e+09,\n",
       "        -2.90313452e+09,  -2.90313452e+09,  -2.90313452e+09,\n",
       "        -2.90313452e+09,  -2.90313452e+09,  -2.90313452e+09,\n",
       "         5.06165504e-01,   1.96709275e-01])"
      ]
     },
     "execution_count": 141,
     "metadata": {},
     "output_type": "execute_result"
    }
   ],
   "source": [
    "from sklearn import linear_model\n",
    "reg = linear_model.LinearRegression()\n",
    "reg.fit (X,y )\n",
    "\n",
    "reg.coef_"
   ]
  },
  {
   "cell_type": "code",
   "execution_count": 142,
   "metadata": {},
   "outputs": [
    {
     "data": {
      "text/plain": [
       "0.41547329081798778"
      ]
     },
     "execution_count": 142,
     "metadata": {},
     "output_type": "execute_result"
    }
   ],
   "source": [
    "reg.score(X,y)"
   ]
  },
  {
   "cell_type": "code",
   "execution_count": 143,
   "metadata": {},
   "outputs": [
    {
     "data": {
      "text/plain": [
       "1.1232367325678296"
      ]
     },
     "execution_count": 143,
     "metadata": {},
     "output_type": "execute_result"
    }
   ],
   "source": [
    "from sklearn.metrics import mean_squared_error\n",
    "np.sqrt(mean_squared_error(y,reg.predict(X)))"
   ]
  },
  {
   "cell_type": "code",
   "execution_count": 144,
   "metadata": {},
   "outputs": [],
   "source": [
    "import xgboost as xgb\n",
    "# read in data\n",
    "dtrain = xgb.DMatrix(X,y)\n",
    "\n",
    "dtest = xgb.DMatrix(X,y)\n",
    "# specify parameters via map\n",
    "param = {'max_depth':2, 'eta':1, 'silent':1, 'objective':'reg:linear' }\n",
    "num_round = 2\n",
    "bst = xgb.train(param, dtrain, num_round)\n",
    "# make prediction\n",
    "preds = bst.predict(dtest)"
   ]
  },
  {
   "cell_type": "code",
   "execution_count": 145,
   "metadata": {},
   "outputs": [
    {
     "data": {
      "text/plain": [
       "array([ 0.20490706,  0.20490706,  0.20490706, ...,  0.20490706,\n",
       "        0.20490706,  0.20490706], dtype=float32)"
      ]
     },
     "execution_count": 145,
     "metadata": {},
     "output_type": "execute_result"
    }
   ],
   "source": [
    "preds"
   ]
  },
  {
   "cell_type": "code",
   "execution_count": 146,
   "metadata": {},
   "outputs": [
    {
     "data": {
      "text/plain": [
       "1.1526401011669725"
      ]
     },
     "execution_count": 146,
     "metadata": {},
     "output_type": "execute_result"
    }
   ],
   "source": [
    "np.sqrt(mean_squared_error(y,np.clip(preds,0,20)))"
   ]
  },
  {
   "cell_type": "code",
   "execution_count": null,
   "metadata": {},
   "outputs": [],
   "source": []
  }
 ],
 "metadata": {
  "kernelspec": {
   "display_name": "Python [default]",
   "language": "python",
   "name": "python3"
  },
  "language_info": {
   "codemirror_mode": {
    "name": "ipython",
    "version": 3
   },
   "file_extension": ".py",
   "mimetype": "text/x-python",
   "name": "python",
   "nbconvert_exporter": "python",
   "pygments_lexer": "ipython3",
   "version": "3.6.4"
  }
 },
 "nbformat": 4,
 "nbformat_minor": 2
}
