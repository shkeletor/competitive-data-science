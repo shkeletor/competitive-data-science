{
 "cells": [
  {
   "cell_type": "markdown",
   "metadata": {},
   "source": [
    "# Explicit matrix factorization based on Keras 2\n",
    "\n",
    "The idea is based on embeddings, as explained by Jeremy Howard of [fast.ai](http://course.fast.ai/lessons/lesson4.html).\n",
    "\n",
    "The main idea is to apply embeddings to a problem like user-movie ratings (content filtering), by using a matrix decomposition.  The particular method has to be able to deal with missing values in the matrix, so SVD or PCA cannot work here.\n",
    "\n",
    "The particular inspiration is from a [blog](http://www.albertauyeung.com/post/python-matrix-factorization/), modified to use Keras v2.\n",
    "\n",
    "The code for the final application is taken from [3rd place winner](https://github.com/entron/entity-embedding-rossmann) of a similar [competition](https://www.kaggle.com/c/rossmann-store-sales/) on Kaggle.  I plan to use the embeddings format to plug into that type of model later.\n",
    "\n",
    "This example code below deal with an example problem using a tiny matrix, just to get a handle on the options."
   ]
  },
  {
   "cell_type": "code",
   "execution_count": 1,
   "metadata": {},
   "outputs": [],
   "source": [
    "import pandas as pd\n",
    "import numpy as np\n",
    "\n",
    "%matplotlib inline\n",
    "%config Completer.use_jedi = False\n"
   ]
  },
  {
   "cell_type": "code",
   "execution_count": 2,
   "metadata": {},
   "outputs": [
    {
     "name": "stderr",
     "output_type": "stream",
     "text": [
      "Using TensorFlow backend.\n"
     ]
    }
   ],
   "source": [
    "from keras.models import Model as KerasModel\n",
    "from keras.layers import Input, Reshape, Dot\n",
    "from keras.layers.embeddings import Embedding\n",
    "from keras import optimizers\n"
   ]
  },
  {
   "cell_type": "markdown",
   "metadata": {},
   "source": [
    "I use a sample matrix, with `0` representing a missing value, exactly the same as in inspiration blog."
   ]
  },
  {
   "cell_type": "code",
   "execution_count": 3,
   "metadata": {},
   "outputs": [
    {
     "data": {
      "text/html": [
       "<div>\n",
       "<style scoped>\n",
       "    .dataframe tbody tr th:only-of-type {\n",
       "        vertical-align: middle;\n",
       "    }\n",
       "\n",
       "    .dataframe tbody tr th {\n",
       "        vertical-align: top;\n",
       "    }\n",
       "\n",
       "    .dataframe thead th {\n",
       "        text-align: right;\n",
       "    }\n",
       "</style>\n",
       "<table border=\"1\" class=\"dataframe\">\n",
       "  <thead>\n",
       "    <tr style=\"text-align: right;\">\n",
       "      <th></th>\n",
       "      <th>0</th>\n",
       "      <th>1</th>\n",
       "      <th>2</th>\n",
       "      <th>3</th>\n",
       "    </tr>\n",
       "  </thead>\n",
       "  <tbody>\n",
       "    <tr>\n",
       "      <th>0</th>\n",
       "      <td>5.0</td>\n",
       "      <td>3.0</td>\n",
       "      <td>NaN</td>\n",
       "      <td>1.0</td>\n",
       "    </tr>\n",
       "    <tr>\n",
       "      <th>1</th>\n",
       "      <td>4.0</td>\n",
       "      <td>NaN</td>\n",
       "      <td>NaN</td>\n",
       "      <td>1.0</td>\n",
       "    </tr>\n",
       "    <tr>\n",
       "      <th>2</th>\n",
       "      <td>1.0</td>\n",
       "      <td>1.0</td>\n",
       "      <td>NaN</td>\n",
       "      <td>5.0</td>\n",
       "    </tr>\n",
       "    <tr>\n",
       "      <th>3</th>\n",
       "      <td>1.0</td>\n",
       "      <td>NaN</td>\n",
       "      <td>NaN</td>\n",
       "      <td>NaN</td>\n",
       "    </tr>\n",
       "    <tr>\n",
       "      <th>4</th>\n",
       "      <td>NaN</td>\n",
       "      <td>1.0</td>\n",
       "      <td>5.0</td>\n",
       "      <td>4.0</td>\n",
       "    </tr>\n",
       "  </tbody>\n",
       "</table>\n",
       "</div>"
      ],
      "text/plain": [
       "     0    1    2    3\n",
       "0  5.0  3.0  NaN  1.0\n",
       "1  4.0  NaN  NaN  1.0\n",
       "2  1.0  1.0  NaN  5.0\n",
       "3  1.0  NaN  NaN  NaN\n",
       "4  NaN  1.0  5.0  4.0"
      ]
     },
     "execution_count": 3,
     "metadata": {},
     "output_type": "execute_result"
    }
   ],
   "source": [
    "ds = pd.DataFrame([\n",
    "    [5, 3, 0, 1],\n",
    "    [4, 0, 0, 1],\n",
    "    [1, 1, 0, 5],\n",
    "    [1, 0, 0, 0],\n",
    "    [0, 1, 5, 4],\n",
    "])\n",
    "ds.replace(to_replace=0,value=np.nan,inplace=True)\n",
    "ds"
   ]
  },
  {
   "cell_type": "markdown",
   "metadata": {},
   "source": [
    "Per Andrew Ng's [suggestion](https://www.coursera.org/learn/machine-learning/lecture/Adk8G/about), I could use the \"mean normalization\" step, but will not do for now for clarity."
   ]
  },
  {
   "cell_type": "code",
   "execution_count": 4,
   "metadata": {},
   "outputs": [],
   "source": [
    "col_means=ds.mean(axis=1)\n",
    "ds_demeaned=ds.subtract(col_means,axis=0)\n"
   ]
  },
  {
   "cell_type": "code",
   "execution_count": 5,
   "metadata": {},
   "outputs": [
    {
     "data": {
      "text/html": [
       "<div>\n",
       "<style scoped>\n",
       "    .dataframe tbody tr th:only-of-type {\n",
       "        vertical-align: middle;\n",
       "    }\n",
       "\n",
       "    .dataframe tbody tr th {\n",
       "        vertical-align: top;\n",
       "    }\n",
       "\n",
       "    .dataframe thead th {\n",
       "        text-align: right;\n",
       "    }\n",
       "</style>\n",
       "<table border=\"1\" class=\"dataframe\">\n",
       "  <thead>\n",
       "    <tr style=\"text-align: right;\">\n",
       "      <th></th>\n",
       "      <th>column</th>\n",
       "      <th>row</th>\n",
       "      <th>truth</th>\n",
       "    </tr>\n",
       "  </thead>\n",
       "  <tbody>\n",
       "    <tr>\n",
       "      <th>0</th>\n",
       "      <td>0</td>\n",
       "      <td>0</td>\n",
       "      <td>5.0</td>\n",
       "    </tr>\n",
       "    <tr>\n",
       "      <th>1</th>\n",
       "      <td>0</td>\n",
       "      <td>1</td>\n",
       "      <td>4.0</td>\n",
       "    </tr>\n",
       "    <tr>\n",
       "      <th>2</th>\n",
       "      <td>0</td>\n",
       "      <td>2</td>\n",
       "      <td>1.0</td>\n",
       "    </tr>\n",
       "    <tr>\n",
       "      <th>3</th>\n",
       "      <td>0</td>\n",
       "      <td>3</td>\n",
       "      <td>1.0</td>\n",
       "    </tr>\n",
       "    <tr>\n",
       "      <th>5</th>\n",
       "      <td>1</td>\n",
       "      <td>0</td>\n",
       "      <td>3.0</td>\n",
       "    </tr>\n",
       "    <tr>\n",
       "      <th>7</th>\n",
       "      <td>1</td>\n",
       "      <td>2</td>\n",
       "      <td>1.0</td>\n",
       "    </tr>\n",
       "    <tr>\n",
       "      <th>9</th>\n",
       "      <td>1</td>\n",
       "      <td>4</td>\n",
       "      <td>1.0</td>\n",
       "    </tr>\n",
       "    <tr>\n",
       "      <th>14</th>\n",
       "      <td>2</td>\n",
       "      <td>4</td>\n",
       "      <td>5.0</td>\n",
       "    </tr>\n",
       "    <tr>\n",
       "      <th>15</th>\n",
       "      <td>3</td>\n",
       "      <td>0</td>\n",
       "      <td>1.0</td>\n",
       "    </tr>\n",
       "    <tr>\n",
       "      <th>16</th>\n",
       "      <td>3</td>\n",
       "      <td>1</td>\n",
       "      <td>1.0</td>\n",
       "    </tr>\n",
       "    <tr>\n",
       "      <th>17</th>\n",
       "      <td>3</td>\n",
       "      <td>2</td>\n",
       "      <td>5.0</td>\n",
       "    </tr>\n",
       "    <tr>\n",
       "      <th>19</th>\n",
       "      <td>3</td>\n",
       "      <td>4</td>\n",
       "      <td>4.0</td>\n",
       "    </tr>\n",
       "  </tbody>\n",
       "</table>\n",
       "</div>"
      ],
      "text/plain": [
       "    column  row  truth\n",
       "0        0    0    5.0\n",
       "1        0    1    4.0\n",
       "2        0    2    1.0\n",
       "3        0    3    1.0\n",
       "5        1    0    3.0\n",
       "7        1    2    1.0\n",
       "9        1    4    1.0\n",
       "14       2    4    5.0\n",
       "15       3    0    1.0\n",
       "16       3    1    1.0\n",
       "17       3    2    5.0\n",
       "19       3    4    4.0"
      ]
     },
     "execution_count": 5,
     "metadata": {},
     "output_type": "execute_result"
    }
   ],
   "source": [
    "ds_unstacked=ds.unstack().reset_index()\n",
    "ds_unstacked.rename(axis=1,mapper={'level_0':'column','level_1':'row',0:'truth'},inplace=True)\n",
    "\n",
    "train=ds_unstacked.dropna()\n",
    "train"
   ]
  },
  {
   "cell_type": "markdown",
   "metadata": {},
   "source": [
    "I will train 2-dimensional embeddings, meaning each level of `row` and `column` will be represented by 2 floating point numbers.  This is lower dimensionality than the `row` and `column` cardinality (4, and 5)"
   ]
  },
  {
   "cell_type": "code",
   "execution_count": 6,
   "metadata": {},
   "outputs": [
    {
     "data": {
      "text/plain": [
       "column    4\n",
       "row       5\n",
       "truth     4\n",
       "dtype: int64"
      ]
     },
     "execution_count": 6,
     "metadata": {},
     "output_type": "execute_result"
    }
   ],
   "source": [
    "n_embed = 2\n",
    "n_levels=train.nunique()\n",
    "n_levels"
   ]
  },
  {
   "cell_type": "markdown",
   "metadata": {},
   "source": [
    "The format of the Keras model matches that of the Rossmann competition winner's, so I that I can use the weights later in a larger model.\n",
    "\n",
    "Note: I want to add regularization to the `Embedding()` layers later."
   ]
  },
  {
   "cell_type": "code",
   "execution_count": 7,
   "metadata": {},
   "outputs": [],
   "source": [
    "input_0 = Input(shape=(1,))\n",
    "output_0 = Embedding(n_levels.column, n_embed, name='embedding_0')(input_0)\n",
    "output_0 = Reshape(target_shape=(n_embed,))(output_0)\n",
    "\n",
    "input_1 = Input(shape=(1,))\n",
    "output_1 = Embedding(n_levels.row, n_embed, name='embedding_1')(input_1)\n",
    "output_1 = Reshape(target_shape=(n_embed,))(output_1)"
   ]
  },
  {
   "cell_type": "markdown",
   "metadata": {},
   "source": [
    "This is the core of the model, the single `Dot()` layer from Keras."
   ]
  },
  {
   "cell_type": "code",
   "execution_count": 8,
   "metadata": {},
   "outputs": [],
   "source": [
    "output_model = Dot(axes=(1,1), normalize=False)([output_0,output_1])\n",
    "\n",
    "model = KerasModel(inputs=[input_0,input_1], outputs=output_model)"
   ]
  },
  {
   "cell_type": "markdown",
   "metadata": {},
   "source": [
    "This model expect a list of arrays as input, not sure if this format is very efficient, but don't know how to improve right now."
   ]
  },
  {
   "cell_type": "code",
   "execution_count": 9,
   "metadata": {},
   "outputs": [
    {
     "data": {
      "text/plain": [
       "[array([0, 0, 0, 0, 1, 1, 1, 2, 3, 3, 3, 3]),\n",
       " array([0, 1, 2, 3, 0, 2, 4, 4, 0, 1, 2, 4])]"
      ]
     },
     "execution_count": 9,
     "metadata": {},
     "output_type": "execute_result"
    }
   ],
   "source": [
    "x=list(train.iloc[:,:2].values.T)\n",
    "y=train.iloc[:,2]\n",
    "x"
   ]
  },
  {
   "cell_type": "markdown",
   "metadata": {},
   "source": [
    "Had to restart `model.fit()` several times to get a good result, usually final loss can go down to ~`0.01` with 2 dimensions."
   ]
  },
  {
   "cell_type": "code",
   "execution_count": 10,
   "metadata": {},
   "outputs": [
    {
     "name": "stdout",
     "output_type": "stream",
     "text": [
      "Epoch 1/10\n",
      "12/12 [==============================] - 0s 6ms/step - loss: 10.1678\n",
      "Epoch 2/10\n",
      "12/12 [==============================] - 0s 186us/step - loss: 10.1620\n",
      "Epoch 3/10\n",
      "12/12 [==============================] - 0s 159us/step - loss: 10.1503\n",
      "Epoch 4/10\n",
      "12/12 [==============================] - 0s 256us/step - loss: 10.1109\n",
      "Epoch 5/10\n",
      "12/12 [==============================] - 0s 357us/step - loss: 9.9738\n",
      "Epoch 6/10\n",
      "12/12 [==============================] - 0s 174us/step - loss: 9.4997\n",
      "Epoch 7/10\n",
      "12/12 [==============================] - 0s 353us/step - loss: 7.9705\n",
      "Epoch 8/10\n",
      "12/12 [==============================] - 0s 226us/step - loss: 4.2840\n",
      "Epoch 9/10\n",
      "12/12 [==============================] - 0s 200us/step - loss: 1.4216\n",
      "Epoch 10/10\n",
      "12/12 [==============================] - 0s 227us/step - loss: 0.5594\n"
     ]
    },
    {
     "data": {
      "text/plain": [
       "<keras.callbacks.History at 0x11d6dac18>"
      ]
     },
     "execution_count": 10,
     "metadata": {},
     "output_type": "execute_result"
    }
   ],
   "source": [
    "sgd = optimizers.SGD(lr=0.4, decay=1e-6, momentum=0.5, nesterov=True)\n",
    "model.compile(loss='mean_squared_error', optimizer=sgd)\n",
    "model.fit(x,y,epochs=10)"
   ]
  },
  {
   "cell_type": "markdown",
   "metadata": {},
   "source": [
    "I can look at the weights, they don't seem to get excessively large without regularization right now."
   ]
  },
  {
   "cell_type": "code",
   "execution_count": 11,
   "metadata": {},
   "outputs": [
    {
     "data": {
      "text/plain": [
       "array([[-0.31470114, -2.45210218],\n",
       "       [-0.23043904, -1.12569129],\n",
       "       [-2.0864985 , -0.7506308 ],\n",
       "       [-2.02308679, -0.29103282]], dtype=float32)"
      ]
     },
     "execution_count": 11,
     "metadata": {},
     "output_type": "execute_result"
    }
   ],
   "source": [
    "model.get_layer('embedding_0').get_weights()[0]"
   ]
  },
  {
   "cell_type": "code",
   "execution_count": 12,
   "metadata": {},
   "outputs": [
    {
     "data": {
      "text/plain": [
       "array([[-0.23636681, -2.09086394],\n",
       "       [-0.2060218 , -1.61287391],\n",
       "       [-1.94337177, -0.3037861 ],\n",
       "       [-0.10028759, -0.41946062],\n",
       "       [-2.14217663, -0.69291216]], dtype=float32)"
      ]
     },
     "execution_count": 12,
     "metadata": {},
     "output_type": "execute_result"
    }
   ],
   "source": [
    "model.get_layer('embedding_1').get_weights()[0]"
   ]
  },
  {
   "cell_type": "markdown",
   "metadata": {},
   "source": [
    "I will predict and compare to the true values.  Note the predicted matrix does not have any missing, allowing us to achieve the goal of the competition."
   ]
  },
  {
   "cell_type": "code",
   "execution_count": 13,
   "metadata": {},
   "outputs": [
    {
     "data": {
      "text/html": [
       "<div>\n",
       "<style scoped>\n",
       "    .dataframe tbody tr th:only-of-type {\n",
       "        vertical-align: middle;\n",
       "    }\n",
       "\n",
       "    .dataframe tbody tr th {\n",
       "        vertical-align: top;\n",
       "    }\n",
       "\n",
       "    .dataframe thead tr th {\n",
       "        text-align: left;\n",
       "    }\n",
       "\n",
       "    .dataframe thead tr:last-of-type th {\n",
       "        text-align: right;\n",
       "    }\n",
       "</style>\n",
       "<table border=\"1\" class=\"dataframe\">\n",
       "  <thead>\n",
       "    <tr>\n",
       "      <th></th>\n",
       "      <th colspan=\"4\" halign=\"left\">predicted</th>\n",
       "      <th colspan=\"4\" halign=\"left\">truth</th>\n",
       "    </tr>\n",
       "    <tr>\n",
       "      <th>column</th>\n",
       "      <th>0</th>\n",
       "      <th>1</th>\n",
       "      <th>2</th>\n",
       "      <th>3</th>\n",
       "      <th>0</th>\n",
       "      <th>1</th>\n",
       "      <th>2</th>\n",
       "      <th>3</th>\n",
       "    </tr>\n",
       "    <tr>\n",
       "      <th>row</th>\n",
       "      <th></th>\n",
       "      <th></th>\n",
       "      <th></th>\n",
       "      <th></th>\n",
       "      <th></th>\n",
       "      <th></th>\n",
       "      <th></th>\n",
       "      <th></th>\n",
       "    </tr>\n",
       "  </thead>\n",
       "  <tbody>\n",
       "    <tr>\n",
       "      <th>0</th>\n",
       "      <td>5.20</td>\n",
       "      <td>2.41</td>\n",
       "      <td>2.06</td>\n",
       "      <td>1.09</td>\n",
       "      <td>5.0</td>\n",
       "      <td>3.0</td>\n",
       "      <td>NaN</td>\n",
       "      <td>1.0</td>\n",
       "    </tr>\n",
       "    <tr>\n",
       "      <th>1</th>\n",
       "      <td>4.02</td>\n",
       "      <td>1.86</td>\n",
       "      <td>1.64</td>\n",
       "      <td>0.89</td>\n",
       "      <td>4.0</td>\n",
       "      <td>NaN</td>\n",
       "      <td>NaN</td>\n",
       "      <td>1.0</td>\n",
       "    </tr>\n",
       "    <tr>\n",
       "      <th>2</th>\n",
       "      <td>1.36</td>\n",
       "      <td>0.79</td>\n",
       "      <td>4.28</td>\n",
       "      <td>4.02</td>\n",
       "      <td>1.0</td>\n",
       "      <td>1.0</td>\n",
       "      <td>NaN</td>\n",
       "      <td>5.0</td>\n",
       "    </tr>\n",
       "    <tr>\n",
       "      <th>3</th>\n",
       "      <td>1.06</td>\n",
       "      <td>0.50</td>\n",
       "      <td>0.52</td>\n",
       "      <td>0.32</td>\n",
       "      <td>1.0</td>\n",
       "      <td>NaN</td>\n",
       "      <td>NaN</td>\n",
       "      <td>NaN</td>\n",
       "    </tr>\n",
       "    <tr>\n",
       "      <th>4</th>\n",
       "      <td>2.37</td>\n",
       "      <td>1.27</td>\n",
       "      <td>4.99</td>\n",
       "      <td>4.54</td>\n",
       "      <td>NaN</td>\n",
       "      <td>1.0</td>\n",
       "      <td>5.0</td>\n",
       "      <td>4.0</td>\n",
       "    </tr>\n",
       "  </tbody>\n",
       "</table>\n",
       "</div>"
      ],
      "text/plain": [
       "       predicted                   truth               \n",
       "column         0     1     2     3     0    1    2    3\n",
       "row                                                    \n",
       "0           5.20  2.41  2.06  1.09   5.0  3.0  NaN  1.0\n",
       "1           4.02  1.86  1.64  0.89   4.0  NaN  NaN  1.0\n",
       "2           1.36  0.79  4.28  4.02   1.0  1.0  NaN  5.0\n",
       "3           1.06  0.50  0.52  0.32   1.0  NaN  NaN  NaN\n",
       "4           2.37  1.27  4.99  4.54   NaN  1.0  5.0  4.0"
      ]
     },
     "execution_count": 13,
     "metadata": {},
     "output_type": "execute_result"
    }
   ],
   "source": [
    "ds_unstacked['predicted']=model.predict(list(ds_unstacked.iloc[:,:2].values.T))\n",
    "ds_unstacked.predicted=ds_unstacked.predicted.apply(lambda x: round(x,2))\n",
    "\n",
    "ds_unstacked.pivot_table(values=['predicted','truth'],index='row',columns='column')"
   ]
  },
  {
   "cell_type": "markdown",
   "metadata": {},
   "source": [
    "## Conclusion\n",
    "I can train embeddings for item-item combinations, even with some combinations missing.  The embedding layers can be used later in larger model, or weights can be continuous variables in other models."
   ]
  },
  {
   "cell_type": "code",
   "execution_count": null,
   "metadata": {},
   "outputs": [],
   "source": []
  }
 ],
 "metadata": {
  "kernelspec": {
   "display_name": "Python [default]",
   "language": "python",
   "name": "python3"
  },
  "language_info": {
   "codemirror_mode": {
    "name": "ipython",
    "version": 3
   },
   "file_extension": ".py",
   "mimetype": "text/x-python",
   "name": "python",
   "nbconvert_exporter": "python",
   "pygments_lexer": "ipython3",
   "version": "3.6.4"
  }
 },
 "nbformat": 4,
 "nbformat_minor": 2
}
