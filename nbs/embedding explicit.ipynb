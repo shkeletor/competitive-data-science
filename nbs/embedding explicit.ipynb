{
 "cells": [
  {
   "cell_type": "markdown",
   "metadata": {},
   "source": [
    "# Model based on embeddings\n",
    "\n",
    "The idea is based on embeddings, as explained by Jeremy Howard of [fast.ai].\n",
    "\n",
    "The code is taken from [3rd place winner](https://github.com/entron/entity-embedding-rossmann) of a similar [competition](https://www.kaggle.com/c/rossmann-store-sales/) on Kaggle."
   ]
  },
  {
   "cell_type": "code",
   "execution_count": 31,
   "metadata": {},
   "outputs": [],
   "source": [
    "import pandas as pd\n",
    "import numpy as np\n",
    "\n",
    "%matplotlib inline\n",
    "%config Completer.use_jedi = False\n"
   ]
  },
  {
   "cell_type": "code",
   "execution_count": 32,
   "metadata": {},
   "outputs": [],
   "source": [
    "from keras.models import Sequential\n",
    "from keras.models import Model as KerasModel\n",
    "from keras.layers import Input, Dense, Activation, Reshape, Dropout, Dot\n",
    "from keras.layers import Concatenate\n",
    "from keras.layers.embeddings import Embedding\n",
    "from keras.callbacks import ModelCheckpoint\n",
    "from keras import optimizers\n"
   ]
  },
  {
   "cell_type": "code",
   "execution_count": 33,
   "metadata": {},
   "outputs": [],
   "source": [
    "ds = pd.read_feather('../data/train_for_test.ftr')"
   ]
  },
  {
   "cell_type": "code",
   "execution_count": 34,
   "metadata": {},
   "outputs": [
    {
     "name": "stdout",
     "output_type": "stream",
     "text": [
      "<class 'pandas.core.frame.DataFrame'>\n",
      "RangeIndex: 3646331 entries, 0 to 3646330\n",
      "Data columns (total 10 columns):\n",
      "date_block_num           category\n",
      "shop_id                  category\n",
      "item_id                  category\n",
      "item_cnt_month           float64\n",
      "item_price               float64\n",
      "year                     category\n",
      "month                    category\n",
      "item_cnt_month_lag_1     float64\n",
      "item_cnt_month_lag_2     float64\n",
      "item_cnt_month_lag_12    float64\n",
      "dtypes: category(5), float64(5)\n",
      "memory usage: 160.8 MB\n"
     ]
    }
   ],
   "source": [
    "ds.info()"
   ]
  },
  {
   "cell_type": "code",
   "execution_count": 35,
   "metadata": {},
   "outputs": [],
   "source": [
    "ds.drop(columns=['item_price','item_cnt_month_lag_1', 'item_cnt_month_lag_2',\n",
    "       'item_cnt_month_lag_12'],inplace=True)"
   ]
  },
  {
   "cell_type": "code",
   "execution_count": 36,
   "metadata": {},
   "outputs": [
    {
     "data": {
      "text/html": [
       "<div>\n",
       "<style scoped>\n",
       "    .dataframe tbody tr th:only-of-type {\n",
       "        vertical-align: middle;\n",
       "    }\n",
       "\n",
       "    .dataframe tbody tr th {\n",
       "        vertical-align: top;\n",
       "    }\n",
       "\n",
       "    .dataframe thead th {\n",
       "        text-align: right;\n",
       "    }\n",
       "</style>\n",
       "<table border=\"1\" class=\"dataframe\">\n",
       "  <thead>\n",
       "    <tr style=\"text-align: right;\">\n",
       "      <th></th>\n",
       "      <th>date_block_num</th>\n",
       "      <th>shop_id</th>\n",
       "      <th>item_id</th>\n",
       "      <th>item_cnt_month</th>\n",
       "      <th>year</th>\n",
       "      <th>month</th>\n",
       "    </tr>\n",
       "  </thead>\n",
       "  <tbody>\n",
       "    <tr>\n",
       "      <th>0</th>\n",
       "      <td>0</td>\n",
       "      <td>2</td>\n",
       "      <td>30</td>\n",
       "      <td>0.0</td>\n",
       "      <td>2013</td>\n",
       "      <td>1</td>\n",
       "    </tr>\n",
       "    <tr>\n",
       "      <th>1</th>\n",
       "      <td>0</td>\n",
       "      <td>42</td>\n",
       "      <td>4352</td>\n",
       "      <td>0.0</td>\n",
       "      <td>2013</td>\n",
       "      <td>1</td>\n",
       "    </tr>\n",
       "    <tr>\n",
       "      <th>2</th>\n",
       "      <td>0</td>\n",
       "      <td>42</td>\n",
       "      <td>4354</td>\n",
       "      <td>0.0</td>\n",
       "      <td>2013</td>\n",
       "      <td>1</td>\n",
       "    </tr>\n",
       "    <tr>\n",
       "      <th>3</th>\n",
       "      <td>0</td>\n",
       "      <td>42</td>\n",
       "      <td>4356</td>\n",
       "      <td>0.0</td>\n",
       "      <td>2013</td>\n",
       "      <td>1</td>\n",
       "    </tr>\n",
       "    <tr>\n",
       "      <th>4</th>\n",
       "      <td>0</td>\n",
       "      <td>42</td>\n",
       "      <td>4357</td>\n",
       "      <td>0.0</td>\n",
       "      <td>2013</td>\n",
       "      <td>1</td>\n",
       "    </tr>\n",
       "  </tbody>\n",
       "</table>\n",
       "</div>"
      ],
      "text/plain": [
       "  date_block_num shop_id item_id  item_cnt_month  year month\n",
       "0              0       2      30             0.0  2013     1\n",
       "1              0      42    4352             0.0  2013     1\n",
       "2              0      42    4354             0.0  2013     1\n",
       "3              0      42    4356             0.0  2013     1\n",
       "4              0      42    4357             0.0  2013     1"
      ]
     },
     "execution_count": 36,
     "metadata": {},
     "output_type": "execute_result"
    }
   ],
   "source": [
    "ds.head()"
   ]
  },
  {
   "cell_type": "code",
   "execution_count": 37,
   "metadata": {},
   "outputs": [],
   "source": [
    "embedding_columns=['shop_id','item_id']\n",
    "for c in embedding_columns:\n",
    "    ds[c].cat.remove_unused_categories(inplace=True)"
   ]
  },
  {
   "cell_type": "code",
   "execution_count": 38,
   "metadata": {},
   "outputs": [
    {
     "data": {
      "text/plain": [
       "shop_id      42\n",
       "item_id    4716\n",
       "dtype: int64"
      ]
     },
     "execution_count": 38,
     "metadata": {},
     "output_type": "execute_result"
    }
   ],
   "source": [
    "n_levels = ds[embedding_columns].nunique()\n",
    "n_levels"
   ]
  },
  {
   "cell_type": "code",
   "execution_count": 39,
   "metadata": {},
   "outputs": [
    {
     "data": {
      "text/plain": [
       "shop_id       59.0\n",
       "item_id    22167.0\n",
       "dtype: float64"
      ]
     },
     "execution_count": 39,
     "metadata": {},
     "output_type": "execute_result"
    }
   ],
   "source": [
    "ds[embedding_columns].max()"
   ]
  },
  {
   "cell_type": "code",
   "execution_count": 70,
   "metadata": {},
   "outputs": [
    {
     "data": {
      "text/plain": [
       "shop_id    4\n",
       "item_id    4\n",
       "dtype: int64"
      ]
     },
     "execution_count": 70,
     "metadata": {},
     "output_type": "execute_result"
    }
   ],
   "source": [
    "n_dimensions=n_levels.copy()\n",
    "n_dimensions.iloc[range(2)]=[4,4]\n",
    "n_dimensions"
   ]
  },
  {
   "cell_type": "code",
   "execution_count": 71,
   "metadata": {},
   "outputs": [],
   "source": [
    "input_shop = Input(shape=(1,))\n",
    "output_shop = Embedding(n_levels.shop_id, n_dimensions.shop_id, name='shop_embedding')(input_shop)\n",
    "output_shop = Reshape(target_shape=(n_dimensions.shop_id,))(output_shop)\n"
   ]
  },
  {
   "cell_type": "code",
   "execution_count": 72,
   "metadata": {},
   "outputs": [],
   "source": [
    "input_item = Input(shape=(1,))\n",
    "output_item = Embedding(n_levels.item_id, n_dimensions.item_id, name='item_embedding')(input_item)\n",
    "output_item = Reshape(target_shape=(n_dimensions.item_id,))(output_item)\n"
   ]
  },
  {
   "cell_type": "code",
   "execution_count": 73,
   "metadata": {},
   "outputs": [],
   "source": [
    "\n",
    "input_model = [input_shop ,input_item]\n",
    "output_embeddings = [output_shop,output_item]\n",
    "\n"
   ]
  },
  {
   "cell_type": "code",
   "execution_count": 74,
   "metadata": {},
   "outputs": [],
   "source": [
    "output_model = Dot(axes=(1,1), normalize=False)([output_shop,output_item])\n",
    "\n",
    "model = KerasModel(inputs=[input_shop,input_item], outputs=output_model)"
   ]
  },
  {
   "cell_type": "code",
   "execution_count": 75,
   "metadata": {},
   "outputs": [
    {
     "data": {
      "text/plain": [
       "([array([ 0,  0,  0, ..., 41, 41, 41], dtype=int8),\n",
       "  array([   0,    1,    2, ..., 4711, 4713, 4715], dtype=int16)],\n",
       " 111404)"
      ]
     },
     "execution_count": 75,
     "metadata": {},
     "output_type": "execute_result"
    }
   ],
   "source": [
    "dsmall=ds.groupby(['shop_id','item_id'], as_index=False)['item_cnt_month'].mean().dropna()\n",
    "\n",
    "x=[dsmall[c].cat.codes.values for c in ['shop_id','item_id']]\n",
    "y=dsmall.item_cnt_month.clip(lower=0,upper=40)\n",
    "x,len(x[0])"
   ]
  },
  {
   "cell_type": "code",
   "execution_count": 89,
   "metadata": {},
   "outputs": [],
   "source": [
    "sgd = optimizers.SGD(lr=0.4, decay=1e-6, momentum=0.5, nesterov=True)\n",
    "model.compile(loss='mean_squared_error', optimizer=sgd)"
   ]
  },
  {
   "cell_type": "code",
   "execution_count": 92,
   "metadata": {},
   "outputs": [
    {
     "name": "stdout",
     "output_type": "stream",
     "text": [
      "Epoch 1/30\n",
      "111404/111404 [==============================] - 0s 2us/step - loss: 0.0962\n",
      "Epoch 2/30\n",
      "111404/111404 [==============================] - 0s 2us/step - loss: 0.0962\n",
      "Epoch 3/30\n",
      "111404/111404 [==============================] - 0s 2us/step - loss: 0.0962\n",
      "Epoch 4/30\n",
      "111404/111404 [==============================] - 0s 2us/step - loss: 0.0961\n",
      "Epoch 5/30\n",
      "111404/111404 [==============================] - 0s 2us/step - loss: 0.0961\n",
      "Epoch 6/30\n",
      "111404/111404 [==============================] - 0s 2us/step - loss: 0.0961\n",
      "Epoch 7/30\n",
      "111404/111404 [==============================] - 0s 2us/step - loss: 0.0961\n",
      "Epoch 8/30\n",
      "111404/111404 [==============================] - 0s 2us/step - loss: 0.0961\n",
      "Epoch 9/30\n",
      "111404/111404 [==============================] - 0s 2us/step - loss: 0.0961\n",
      "Epoch 10/30\n",
      "111404/111404 [==============================] - 0s 2us/step - loss: 0.0962\n",
      "Epoch 11/30\n",
      "111404/111404 [==============================] - 0s 2us/step - loss: 0.0961\n",
      "Epoch 12/30\n",
      "111404/111404 [==============================] - 0s 2us/step - loss: 0.0961\n",
      "Epoch 13/30\n",
      "111404/111404 [==============================] - 0s 2us/step - loss: 0.0961\n",
      "Epoch 14/30\n",
      "111404/111404 [==============================] - 0s 2us/step - loss: 0.0961\n",
      "Epoch 15/30\n",
      "111404/111404 [==============================] - 0s 2us/step - loss: 0.0960\n",
      "Epoch 16/30\n",
      "111404/111404 [==============================] - 0s 2us/step - loss: 0.0961\n",
      "Epoch 17/30\n",
      "111404/111404 [==============================] - 0s 2us/step - loss: 0.0961\n",
      "Epoch 18/30\n",
      "111404/111404 [==============================] - 0s 2us/step - loss: 0.0961\n",
      "Epoch 19/30\n",
      "111404/111404 [==============================] - 0s 2us/step - loss: 0.0961\n",
      "Epoch 20/30\n",
      "111404/111404 [==============================] - 0s 2us/step - loss: 0.0961\n",
      "Epoch 21/30\n",
      "111404/111404 [==============================] - 0s 2us/step - loss: 0.0961\n",
      "Epoch 22/30\n",
      "111404/111404 [==============================] - 0s 2us/step - loss: 0.0960\n",
      "Epoch 23/30\n",
      "111404/111404 [==============================] - 0s 2us/step - loss: 0.0960\n",
      "Epoch 24/30\n",
      "111404/111404 [==============================] - 0s 2us/step - loss: 0.0961\n",
      "Epoch 25/30\n",
      "111404/111404 [==============================] - 0s 2us/step - loss: 0.0961\n",
      "Epoch 26/30\n",
      "111404/111404 [==============================] - 0s 2us/step - loss: 0.0961\n",
      "Epoch 27/30\n",
      "111404/111404 [==============================] - 0s 2us/step - loss: 0.0960\n",
      "Epoch 28/30\n",
      "111404/111404 [==============================] - 0s 2us/step - loss: 0.0960\n",
      "Epoch 29/30\n",
      "111404/111404 [==============================] - 0s 2us/step - loss: 0.0961\n",
      "Epoch 30/30\n",
      "111404/111404 [==============================] - 0s 2us/step - loss: 0.0960\n"
     ]
    },
    {
     "data": {
      "text/plain": [
       "<keras.callbacks.History at 0x135547be0>"
      ]
     },
     "execution_count": 92,
     "metadata": {},
     "output_type": "execute_result"
    }
   ],
   "source": [
    "model.fit(x,y,validation_split=0,epochs=30,verbose=1,batch_size=2048)"
   ]
  },
  {
   "cell_type": "code",
   "execution_count": 93,
   "metadata": {},
   "outputs": [
    {
     "data": {
      "text/plain": [
       "<matplotlib.collections.PathCollection at 0x137ebc278>"
      ]
     },
     "execution_count": 93,
     "metadata": {},
     "output_type": "execute_result"
    },
    {
     "data": {
      "image/png": "[encoded data removed]",
      "text/plain": [
       "<Figure size 576x576 with 1 Axes>"
      ]
     },
     "metadata": {},
     "output_type": "display_data"
    }
   ],
   "source": [
    "from sklearn import manifold\n",
    "import matplotlib.pyplot as plt\n",
    "%matplotlib inline\n",
    "\n",
    "items=pd.read_csv('../readonly/final_project_data/items.csv',index_col='item_id')\n",
    "\n",
    "full_embeddings=model.get_layer('item_embedding').get_weights()[0]\n",
    "n_full = len(full_embeddings)\n",
    "n_plot=500\n",
    "pick_idx=np.random.choice(range(n_full),size=n_plot)\n",
    "plot_embeddings=full_embeddings[pick_idx]\n",
    "item_cats=items.iloc[dsmall.item_id.cat.categories[pick_idx]].item_category_id.values\n",
    "\n",
    "tsne = manifold.TSNE(init='pca', random_state=0, method='exact')\n",
    "Y = tsne.fit_transform(plot_embeddings)\n",
    "plt.figure(figsize=(8,8))\n",
    "plt.scatter(-Y[:, 0], -Y[:, 1],c=item_cats,cmap='tab20')\n",
    "#for i, txt in enumerate(ds.item_id.cat.categories[pick_idx]):\n",
    "#    plt.annotate(txt, (-Y[i, 0],-Y[i, 1]), xytext = (-1, 1), textcoords = 'offset points')\n",
    "\n"
   ]
  },
  {
   "cell_type": "code",
   "execution_count": 100,
   "metadata": {},
   "outputs": [],
   "source": [
    "test=pd.read_csv('../readonly/final_project_data/test.csv')"
   ]
  },
  {
   "cell_type": "code",
   "execution_count": 111,
   "metadata": {},
   "outputs": [
    {
     "name": "stdout",
     "output_type": "stream",
     "text": [
      "<class 'pandas.core.frame.DataFrame'>\n",
      "RangeIndex: 214200 entries, 0 to 214199\n",
      "Data columns (total 3 columns):\n",
      "ID         214200 non-null int64\n",
      "shop_id    214200 non-null category\n",
      "item_id    198072 non-null category\n",
      "dtypes: category(2), int64(1)\n",
      "memory usage: 2.4 MB\n"
     ]
    }
   ],
   "source": [
    "test.shop_id=pd.Categorical(test.shop_id,categories=dsmall.shop_id.cat.categories)\n",
    "test.item_id=pd.Categorical(test.item_id,categories=dsmall.item_id.cat.categories)\n",
    "new_items_idx=test.item_id.isna()\n",
    "test.info()"
   ]
  },
  {
   "cell_type": "code",
   "execution_count": 112,
   "metadata": {},
   "outputs": [
    {
     "data": {
      "text/plain": [
       "([array([ 3,  3,  3, ..., 29, 29, 29], dtype=int8),\n",
       "  array([1105, 1147, 1146, ..., 3435, 4244,  144], dtype=int16)],\n",
       " 198072)"
      ]
     },
     "execution_count": 112,
     "metadata": {},
     "output_type": "execute_result"
    }
   ],
   "source": [
    "x_test=[test.loc[~new_items_idx,c].cat.codes.values for c in ['shop_id','item_id']]\n",
    "x_test,len(x_test[0])\n",
    "\n"
   ]
  },
  {
   "cell_type": "code",
   "execution_count": 124,
   "metadata": {},
   "outputs": [],
   "source": [
    "test.loc[~new_items_idx,'item_cnt_month']=model.predict(x_test)"
   ]
  },
  {
   "cell_type": "code",
   "execution_count": 125,
   "metadata": {},
   "outputs": [
    {
     "data": {
      "text/plain": [
       "<matplotlib.axes._subplots.AxesSubplot at 0x13af1c048>"
      ]
     },
     "execution_count": 125,
     "metadata": {},
     "output_type": "execute_result"
    },
    {
     "data": {
      "image/png": "[encoded data removed]",
      "text/plain": [
       "<Figure size 432x288 with 1 Axes>"
      ]
     },
     "metadata": {},
     "output_type": "display_data"
    }
   ],
   "source": [
    "test.item_cnt_month.hist(bins=100,log=True)"
   ]
  },
  {
   "cell_type": "code",
   "execution_count": 129,
   "metadata": {},
   "outputs": [],
   "source": [
    "test.item_cnt_month.fillna(value=0.0,inplace=True)"
   ]
  },
  {
   "cell_type": "code",
   "execution_count": 130,
   "metadata": {},
   "outputs": [],
   "source": [
    "test.item_cnt_month.clip(lower=0,upper=20,inplace=True)"
   ]
  },
  {
   "cell_type": "code",
   "execution_count": 131,
   "metadata": {},
   "outputs": [],
   "source": [
    "test.to_csv('../data/submit_shop_item_embed_fill0.csv',header=True,index=False,columns=['ID','item_cnt_month'])"
   ]
  },
  {
   "cell_type": "code",
   "execution_count": null,
   "metadata": {},
   "outputs": [],
   "source": []
  }
 ],
 "metadata": {
  "kernelspec": {
   "display_name": "Python [default]",
   "language": "python",
   "name": "python3"
  },
  "language_info": {
   "codemirror_mode": {
    "name": "ipython",
    "version": 3
   },
   "file_extension": ".py",
   "mimetype": "text/x-python",
   "name": "python",
   "nbconvert_exporter": "python",
   "pygments_lexer": "ipython3",
   "version": "3.6.4"
  }
 },
 "nbformat": 4,
 "nbformat_minor": 2
}
