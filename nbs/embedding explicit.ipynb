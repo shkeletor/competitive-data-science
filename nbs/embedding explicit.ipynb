{
 "cells": [
  {
   "cell_type": "markdown",
   "metadata": {},
   "source": [
    "# Model based on embeddings\n",
    "\n",
    "The idea is based on embeddings, as explained by Jeremy Howard of [fast.ai].\n",
    "\n",
    "The code is taken from [3rd place winner](https://github.com/entron/entity-embedding-rossmann) of a similar [competition](https://www.kaggle.com/c/rossmann-store-sales/) on Kaggle."
   ]
  },
  {
   "cell_type": "code",
   "execution_count": 5,
   "metadata": {},
   "outputs": [],
   "source": [
    "import pandas as pd\n",
    "import numpy as np\n",
    "\n",
    "%matplotlib inline\n",
    "%config Completer.use_jedi = False\n"
   ]
  },
  {
   "cell_type": "code",
   "execution_count": 6,
   "metadata": {},
   "outputs": [],
   "source": [
    "from keras.models import Sequential\n",
    "from keras.models import Model as KerasModel\n",
    "from keras.layers import Input, Dense, Reshape, Dot, Add\n",
    "from keras.layers import Concatenate\n",
    "from keras.layers.embeddings import Embedding\n",
    "from keras.callbacks import ModelCheckpoint\n",
    "from keras import optimizers\n"
   ]
  },
  {
   "cell_type": "code",
   "execution_count": 7,
   "metadata": {},
   "outputs": [],
   "source": [
    "ds = pd.read_feather('../data/train_for_test.ftr')"
   ]
  },
  {
   "cell_type": "code",
   "execution_count": 8,
   "metadata": {},
   "outputs": [
    {
     "name": "stdout",
     "output_type": "stream",
     "text": [
      "<class 'pandas.core.frame.DataFrame'>\n",
      "RangeIndex: 3646331 entries, 0 to 3646330\n",
      "Data columns (total 10 columns):\n",
      "date_block_num           category\n",
      "shop_id                  category\n",
      "item_id                  category\n",
      "item_cnt_month           float64\n",
      "item_price               float64\n",
      "year                     category\n",
      "month                    category\n",
      "item_cnt_month_lag_1     float64\n",
      "item_cnt_month_lag_2     float64\n",
      "item_cnt_month_lag_12    float64\n",
      "dtypes: category(5), float64(5)\n",
      "memory usage: 160.8 MB\n"
     ]
    }
   ],
   "source": [
    "ds.info()"
   ]
  },
  {
   "cell_type": "code",
   "execution_count": 9,
   "metadata": {},
   "outputs": [],
   "source": [
    "ds.drop(columns=['item_price','item_cnt_month_lag_1', 'item_cnt_month_lag_2',\n",
    "       'item_cnt_month_lag_12'],inplace=True)"
   ]
  },
  {
   "cell_type": "code",
   "execution_count": 10,
   "metadata": {},
   "outputs": [
    {
     "data": {
      "text/html": [
       "<div>\n",
       "<style scoped>\n",
       "    .dataframe tbody tr th:only-of-type {\n",
       "        vertical-align: middle;\n",
       "    }\n",
       "\n",
       "    .dataframe tbody tr th {\n",
       "        vertical-align: top;\n",
       "    }\n",
       "\n",
       "    .dataframe thead th {\n",
       "        text-align: right;\n",
       "    }\n",
       "</style>\n",
       "<table border=\"1\" class=\"dataframe\">\n",
       "  <thead>\n",
       "    <tr style=\"text-align: right;\">\n",
       "      <th></th>\n",
       "      <th>date_block_num</th>\n",
       "      <th>shop_id</th>\n",
       "      <th>item_id</th>\n",
       "      <th>item_cnt_month</th>\n",
       "      <th>year</th>\n",
       "      <th>month</th>\n",
       "    </tr>\n",
       "  </thead>\n",
       "  <tbody>\n",
       "    <tr>\n",
       "      <th>0</th>\n",
       "      <td>0</td>\n",
       "      <td>2</td>\n",
       "      <td>30</td>\n",
       "      <td>0.0</td>\n",
       "      <td>2013</td>\n",
       "      <td>1</td>\n",
       "    </tr>\n",
       "    <tr>\n",
       "      <th>1</th>\n",
       "      <td>0</td>\n",
       "      <td>42</td>\n",
       "      <td>4352</td>\n",
       "      <td>0.0</td>\n",
       "      <td>2013</td>\n",
       "      <td>1</td>\n",
       "    </tr>\n",
       "    <tr>\n",
       "      <th>2</th>\n",
       "      <td>0</td>\n",
       "      <td>42</td>\n",
       "      <td>4354</td>\n",
       "      <td>0.0</td>\n",
       "      <td>2013</td>\n",
       "      <td>1</td>\n",
       "    </tr>\n",
       "    <tr>\n",
       "      <th>3</th>\n",
       "      <td>0</td>\n",
       "      <td>42</td>\n",
       "      <td>4356</td>\n",
       "      <td>0.0</td>\n",
       "      <td>2013</td>\n",
       "      <td>1</td>\n",
       "    </tr>\n",
       "    <tr>\n",
       "      <th>4</th>\n",
       "      <td>0</td>\n",
       "      <td>42</td>\n",
       "      <td>4357</td>\n",
       "      <td>0.0</td>\n",
       "      <td>2013</td>\n",
       "      <td>1</td>\n",
       "    </tr>\n",
       "  </tbody>\n",
       "</table>\n",
       "</div>"
      ],
      "text/plain": [
       "  date_block_num shop_id item_id  item_cnt_month  year month\n",
       "0              0       2      30             0.0  2013     1\n",
       "1              0      42    4352             0.0  2013     1\n",
       "2              0      42    4354             0.0  2013     1\n",
       "3              0      42    4356             0.0  2013     1\n",
       "4              0      42    4357             0.0  2013     1"
      ]
     },
     "execution_count": 10,
     "metadata": {},
     "output_type": "execute_result"
    }
   ],
   "source": [
    "ds.head()"
   ]
  },
  {
   "cell_type": "code",
   "execution_count": 11,
   "metadata": {},
   "outputs": [],
   "source": [
    "embedding_columns=['shop_id','item_id']\n",
    "for c in embedding_columns:\n",
    "    ds[c].cat.remove_unused_categories(inplace=True)"
   ]
  },
  {
   "cell_type": "code",
   "execution_count": 12,
   "metadata": {},
   "outputs": [
    {
     "data": {
      "text/plain": [
       "shop_id      42\n",
       "item_id    4716\n",
       "dtype: int64"
      ]
     },
     "execution_count": 12,
     "metadata": {},
     "output_type": "execute_result"
    }
   ],
   "source": [
    "n_levels = ds[embedding_columns].nunique()\n",
    "n_levels"
   ]
  },
  {
   "cell_type": "code",
   "execution_count": 13,
   "metadata": {},
   "outputs": [
    {
     "data": {
      "text/plain": [
       "shop_id       59.0\n",
       "item_id    22167.0\n",
       "dtype: float64"
      ]
     },
     "execution_count": 13,
     "metadata": {},
     "output_type": "execute_result"
    }
   ],
   "source": [
    "ds[embedding_columns].max()"
   ]
  },
  {
   "cell_type": "code",
   "execution_count": 79,
   "metadata": {},
   "outputs": [
    {
     "data": {
      "text/plain": [
       "shop_id    3\n",
       "item_id    3\n",
       "dtype: int64"
      ]
     },
     "execution_count": 79,
     "metadata": {},
     "output_type": "execute_result"
    }
   ],
   "source": [
    "n_dimensions=n_levels.copy()\n",
    "n_dimensions.iloc[range(2)]=[3,3]\n",
    "n_dimensions"
   ]
  },
  {
   "cell_type": "code",
   "execution_count": 80,
   "metadata": {},
   "outputs": [],
   "source": [
    "input_shop = Input(shape=(1,))\n",
    "output_shop = Embedding(n_levels.shop_id, n_dimensions.shop_id, name='shop_embedding')(input_shop)\n",
    "output_shop = Reshape(target_shape=(n_dimensions.shop_id,))(output_shop)\n",
    "bias_shop = Embedding(n_levels.shop_id, 1, name='bias_shop')(input_shop)\n",
    "bias_shop = Reshape(target_shape=(1,))(bias_shop)\n",
    "\n"
   ]
  },
  {
   "cell_type": "code",
   "execution_count": 81,
   "metadata": {},
   "outputs": [],
   "source": [
    "input_item = Input(shape=(1,))\n",
    "output_item = Embedding(n_levels.item_id, n_dimensions.item_id, name='item_embedding')(input_item)\n",
    "output_item = Reshape(target_shape=(n_dimensions.item_id,))(output_item)\n",
    "bias_item = Embedding(n_levels.item_id, 1, name='bias_item')(input_item)\n",
    "bias_item = Reshape(target_shape=(1,))(bias_item)\n",
    "\n"
   ]
  },
  {
   "cell_type": "code",
   "execution_count": 82,
   "metadata": {},
   "outputs": [],
   "source": [
    "\n",
    "input_model = [input_shop ,input_item]\n",
    "output_embeddings = [output_shop,output_item]\n",
    "\n"
   ]
  },
  {
   "cell_type": "code",
   "execution_count": 83,
   "metadata": {},
   "outputs": [],
   "source": [
    "output_model = Dot(axes=-1, normalize=False)([output_shop,output_item])\n",
    "output_model = Add()([output_model,bias_shop,bias_item])\n",
    "\n",
    "model = KerasModel(inputs=[input_shop,input_item], outputs=output_model)"
   ]
  },
  {
   "cell_type": "code",
   "execution_count": 84,
   "metadata": {},
   "outputs": [
    {
     "data": {
      "text/plain": [
       "([array([ 0,  0,  0, ..., 41, 41, 41], dtype=int8),\n",
       "  array([   0,    1,    2, ..., 4711, 4713, 4715], dtype=int16)],\n",
       " 111404)"
      ]
     },
     "execution_count": 84,
     "metadata": {},
     "output_type": "execute_result"
    }
   ],
   "source": [
    "dsmall=ds.groupby(['shop_id','item_id'], as_index=False)['item_cnt_month'].mean().dropna()\n",
    "\n",
    "x=[dsmall[c].cat.codes.values for c in ['shop_id','item_id']]\n",
    "y=dsmall.item_cnt_month.clip(lower=0,upper=40)\n",
    "x,len(x[0])"
   ]
  },
  {
   "cell_type": "code",
   "execution_count": 85,
   "metadata": {},
   "outputs": [],
   "source": [
    "sgd = optimizers.SGD(lr=0.6, decay=1e-6, momentum=0.9, nesterov=True)\n",
    "model.compile(loss='mean_squared_error', optimizer=sgd)"
   ]
  },
  {
   "cell_type": "markdown",
   "metadata": {},
   "source": [
    "Quick summary of fit results, after a few restarts (now with embeddings bias)\n",
    "- 1 dimension MSE 0.17\n",
    "- 2 dims MSE 0.12\n",
    "- 3 dims MSE 0.10\n",
    "- 4 dims MSE 0.08\n",
    "- 10 dims MSE 0.03"
   ]
  },
  {
   "cell_type": "code",
   "execution_count": 88,
   "metadata": {},
   "outputs": [
    {
     "name": "stdout",
     "output_type": "stream",
     "text": [
      "Epoch 1/1\n",
      " - 0s - loss: 0.1003\n"
     ]
    },
    {
     "data": {
      "text/plain": [
       "<keras.callbacks.History at 0x12f3515f8>"
      ]
     },
     "execution_count": 88,
     "metadata": {},
     "output_type": "execute_result"
    }
   ],
   "source": [
    "model.fit(x,y,validation_split=0,epochs=300,verbose=0,batch_size=2**14)\n",
    "model.fit(x,y,validation_split=0,epochs=1,verbose=2,batch_size=2**14)\n",
    "\n"
   ]
  },
  {
   "cell_type": "code",
   "execution_count": null,
   "metadata": {},
   "outputs": [],
   "source": [
    "from sklearn import manifold\n",
    "import matplotlib.pyplot as plt\n",
    "%matplotlib inline\n",
    "\n",
    "items=pd.read_csv('../readonly/final_project_data/items.csv',index_col='item_id')\n",
    "\n",
    "full_embeddings=model.get_layer('item_embedding').get_weights()[0]\n",
    "n_full = len(full_embeddings)\n",
    "n_plot=500\n",
    "pick_idx=np.random.choice(range(n_full),size=n_plot)\n",
    "plot_embeddings=full_embeddings[pick_idx]\n",
    "item_cats=items.iloc[dsmall.item_id.cat.categories[pick_idx]].item_category_id.values\n",
    "\n",
    "tsne = manifold.TSNE(init='pca', random_state=0, method='exact')\n",
    "Y = tsne.fit_transform(plot_embeddings)\n",
    "plt.figure(figsize=(8,8))\n",
    "plt.scatter(-Y[:, 0], -Y[:, 1],c=item_cats,cmap='tab20')\n",
    "#for i, txt in enumerate(ds.item_id.cat.categories[pick_idx]):\n",
    "#    plt.annotate(txt, (-Y[i, 0],-Y[i, 1]), xytext = (-1, 1), textcoords = 'offset points')\n",
    "\n"
   ]
  },
  {
   "cell_type": "code",
   "execution_count": null,
   "metadata": {},
   "outputs": [],
   "source": [
    "shop_cats=shops.iloc[dsmall.shop_id.cat.categories].index.values\n"
   ]
  },
  {
   "cell_type": "code",
   "execution_count": null,
   "metadata": {},
   "outputs": [],
   "source": [
    "\n",
    "shops=pd.read_csv('../readonly/final_project_data/shops.csv',index_col='shop_id')\n",
    "\n",
    "shop_embeddings_array=model.get_layer('shop_embedding').get_weights()[0]\n",
    "\n",
    "plot_embeddings=shop_embeddings_array\n",
    "shop_cats=shops.iloc[dsmall.shop_id.cat.categories].index.values\n",
    "\n",
    "tsne = manifold.TSNE(init='pca', random_state=0, method='exact')\n",
    "Y = tsne.fit_transform(plot_embeddings)\n",
    "plt.figure(figsize=(8,8))\n",
    "plt.scatter(-Y[:, 0], -Y[:, 1],c=shop_cats,cmap='tab20')\n",
    "#for i, txt in enumerate(ds.item_id.cat.categories[pick_idx]):\n",
    "#    plt.annotate(txt, (-Y[i, 0],-Y[i, 1]), xytext = (-1, 1), textcoords = 'offset points')\n",
    "\n"
   ]
  },
  {
   "cell_type": "code",
   "execution_count": null,
   "metadata": {},
   "outputs": [],
   "source": [
    "test=pd.read_csv('../readonly/final_project_data/test.csv')"
   ]
  },
  {
   "cell_type": "code",
   "execution_count": null,
   "metadata": {},
   "outputs": [],
   "source": [
    "test.shop_id=pd.Categorical(test.shop_id,categories=dsmall.shop_id.cat.categories)\n",
    "test.item_id=pd.Categorical(test.item_id,categories=dsmall.item_id.cat.categories)\n",
    "new_items_idx=test.item_id.isna()\n",
    "test.info()"
   ]
  },
  {
   "cell_type": "code",
   "execution_count": null,
   "metadata": {},
   "outputs": [],
   "source": [
    "x_test=[test.loc[~new_items_idx,c].cat.codes.values for c in ['shop_id','item_id']]\n",
    "x_test,len(x_test[0])\n",
    "\n"
   ]
  },
  {
   "cell_type": "code",
   "execution_count": null,
   "metadata": {},
   "outputs": [],
   "source": [
    "test.loc[~new_items_idx,'item_cnt_month']=model.predict(x_test)"
   ]
  },
  {
   "cell_type": "code",
   "execution_count": null,
   "metadata": {},
   "outputs": [],
   "source": [
    "test.item_cnt_month.hist(bins=100,log=True)"
   ]
  },
  {
   "cell_type": "code",
   "execution_count": null,
   "metadata": {},
   "outputs": [],
   "source": [
    "test.item_cnt_month.fillna(value=0.0,inplace=True)"
   ]
  },
  {
   "cell_type": "code",
   "execution_count": null,
   "metadata": {},
   "outputs": [],
   "source": [
    "test.item_cnt_month.clip(lower=0,upper=20,inplace=True)"
   ]
  },
  {
   "cell_type": "code",
   "execution_count": null,
   "metadata": {},
   "outputs": [],
   "source": [
    "test.to_csv('../data/submit_shop_item_embed_fill0.csv',header=True,index=False,columns=['ID','item_cnt_month'])"
   ]
  },
  {
   "cell_type": "code",
   "execution_count": null,
   "metadata": {},
   "outputs": [],
   "source": [
    "dsmall.shape"
   ]
  },
  {
   "cell_type": "code",
   "execution_count": null,
   "metadata": {},
   "outputs": [],
   "source": [
    "# save for tensorflow projector\n",
    "pd.DataFrame(full_embeddings).to_csv('../data/item_embeddings.tsv',sep='\\t',header=False,index=False)"
   ]
  },
  {
   "cell_type": "code",
   "execution_count": null,
   "metadata": {},
   "outputs": [],
   "source": [
    "item_cats=items.iloc[dsmall.item_id.cat.categories].item_category_id.values\n",
    "item_ids=items.iloc[dsmall.item_id.cat.categories].index.values\n"
   ]
  },
  {
   "cell_type": "code",
   "execution_count": null,
   "metadata": {},
   "outputs": [],
   "source": [
    "pd.DataFrame(item_cats,columns=['cat_id']).to_csv('../data/item_embeddings_meta.tsv',sep='\\t',header=True)"
   ]
  },
  {
   "cell_type": "code",
   "execution_count": null,
   "metadata": {},
   "outputs": [],
   "source": []
  },
  {
   "cell_type": "code",
   "execution_count": null,
   "metadata": {},
   "outputs": [],
   "source": [
    "item_embeddings = pd.DataFrame(full_embeddings,index=item_ids,columns=['item_emb_1','item_emb_2','item_emb_3'])\n",
    "item_embeddings.index.name='item_id'\n",
    "item_embeddings.hist(bins=50,log=True,figsize=(8,8))"
   ]
  },
  {
   "cell_type": "code",
   "execution_count": null,
   "metadata": {},
   "outputs": [],
   "source": [
    "item_embeddings.to_csv('../data/item_embeddings.csv')"
   ]
  },
  {
   "cell_type": "code",
   "execution_count": null,
   "metadata": {},
   "outputs": [],
   "source": [
    "shop_embeddings=pd.DataFrame(shop_embeddings_array,index=shop_cats,columns=['shop_emb_1','shop_emb_2','shop_emb_3'])\n",
    "\n",
    "shop_embeddings.index.name='shop_id'\n",
    "\n",
    "shop_embeddings.hist(bins=50,log=True,figsize=(8,8))"
   ]
  },
  {
   "cell_type": "code",
   "execution_count": null,
   "metadata": {},
   "outputs": [],
   "source": [
    "shop_embeddings.to_csv('../data/shop_embeddings.csv')"
   ]
  },
  {
   "cell_type": "code",
   "execution_count": null,
   "metadata": {},
   "outputs": [],
   "source": []
  }
 ],
 "metadata": {
  "kernelspec": {
   "display_name": "Python [default]",
   "language": "python",
   "name": "python3"
  },
  "language_info": {
   "codemirror_mode": {
    "name": "ipython",
    "version": 3
   },
   "file_extension": ".py",
   "mimetype": "text/x-python",
   "name": "python",
   "nbconvert_exporter": "python",
   "pygments_lexer": "ipython3",
   "version": "3.6.4"
  }
 },
 "nbformat": 4,
 "nbformat_minor": 2
}
