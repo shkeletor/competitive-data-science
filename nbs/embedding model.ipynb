{
 "cells": [
  {
   "cell_type": "code",
   "execution_count": 1,
   "metadata": {},
   "outputs": [],
   "source": [
    "import pandas as pd\n",
    "import numpy as np\n",
    "\n",
    "%matplotlib inline\n",
    "%config Completer.use_jedi = False"
   ]
  },
  {
   "cell_type": "code",
   "execution_count": 3,
   "metadata": {},
   "outputs": [],
   "source": [
    "ds = pd.read_feather('../data/preprocessed_train.ftr')"
   ]
  },
  {
   "cell_type": "code",
   "execution_count": 6,
   "metadata": {},
   "outputs": [
    {
     "name": "stdout",
     "output_type": "stream",
     "text": [
      "<class 'pandas.core.frame.DataFrame'>\n",
      "RangeIndex: 13150956 entries, 0 to 13150955\n",
      "Data columns (total 5 columns):\n",
      "date_block_num    category\n",
      "shop_id           category\n",
      "item_id           category\n",
      "item_cnt_month    float64\n",
      "item_price        float64\n",
      "dtypes: category(3), float64(2)\n",
      "memory usage: 251.6 MB\n"
     ]
    }
   ],
   "source": [
    "ds.info()"
   ]
  },
  {
   "cell_type": "code",
   "execution_count": 147,
   "metadata": {},
   "outputs": [],
   "source": [
    "from keras.models import Sequential\n",
    "from keras.models import Model as KerasModel\n",
    "from keras.layers import Input, Dense, Activation, Reshape\n",
    "from keras.layers import Concatenate\n",
    "from keras.layers.embeddings import Embedding\n",
    "from keras.callbacks import ModelCheckpoint\n",
    "from keras import optimizers\n"
   ]
  },
  {
   "cell_type": "code",
   "execution_count": 20,
   "metadata": {},
   "outputs": [
    {
     "data": {
      "text/plain": [
       "Index(['date_block_num', 'shop_id', 'item_id'], dtype='object')"
      ]
     },
     "execution_count": 20,
     "metadata": {},
     "output_type": "execute_result"
    }
   ],
   "source": [
    "embedding_columns=ds.select_dtypes(include='category').columns\n",
    "embedding_columns"
   ]
  },
  {
   "cell_type": "code",
   "execution_count": 57,
   "metadata": {},
   "outputs": [
    {
     "data": {
      "text/plain": [
       "date_block_num       34\n",
       "shop_id              60\n",
       "item_id           21807\n",
       "dtype: int64"
      ]
     },
     "execution_count": 57,
     "metadata": {},
     "output_type": "execute_result"
    }
   ],
   "source": [
    "n_levels = ds[embedding_columns].nunique()\n",
    "n_levels"
   ]
  },
  {
   "cell_type": "code",
   "execution_count": 88,
   "metadata": {},
   "outputs": [
    {
     "data": {
      "text/plain": [
       "date_block_num       33.0\n",
       "shop_id              59.0\n",
       "item_id           22169.0\n",
       "dtype: float64"
      ]
     },
     "execution_count": 88,
     "metadata": {},
     "output_type": "execute_result"
    }
   ],
   "source": [
    "ds[embedding_columns].max()"
   ]
  },
  {
   "cell_type": "code",
   "execution_count": 89,
   "metadata": {},
   "outputs": [],
   "source": [
    "n_levels.item_id=22170"
   ]
  },
  {
   "cell_type": "code",
   "execution_count": 96,
   "metadata": {},
   "outputs": [
    {
     "data": {
      "text/plain": [
       "date_block_num     3\n",
       "shop_id            3\n",
       "item_id           10\n",
       "dtype: int64"
      ]
     },
     "execution_count": 96,
     "metadata": {},
     "output_type": "execute_result"
    }
   ],
   "source": [
    "n_dimensions=n_levels.copy()\n",
    "n_dimensions.iloc[range(3)]=[3,3,10]\n",
    "n_dimensions"
   ]
  },
  {
   "cell_type": "code",
   "execution_count": 97,
   "metadata": {},
   "outputs": [],
   "source": [
    "input_block = Input(shape=(1,))\n",
    "output_block = Embedding(n_levels.date_block_num, n_dimensions.date_block_num, name='block_embedding')(input_block)\n",
    "output_block = Reshape(target_shape=(n_dimensions.date_block_num,))(output_block)\n"
   ]
  },
  {
   "cell_type": "code",
   "execution_count": 98,
   "metadata": {},
   "outputs": [],
   "source": [
    "input_shop = Input(shape=(1,))\n",
    "output_shop = Embedding(n_levels.shop_id, n_dimensions.shop_id, name='shop_embedding')(input_shop)\n",
    "output_shop = Reshape(target_shape=(n_dimensions.shop_id,))(output_shop)\n"
   ]
  },
  {
   "cell_type": "code",
   "execution_count": 99,
   "metadata": {},
   "outputs": [],
   "source": [
    "input_item = Input(shape=(1,))\n",
    "output_item = Embedding(n_levels.item_id, n_dimensions.item_id, name='item_embedding')(input_item)\n",
    "output_item = Reshape(target_shape=(n_dimensions.item_id,))(output_item)\n"
   ]
  },
  {
   "cell_type": "code",
   "execution_count": 100,
   "metadata": {},
   "outputs": [],
   "source": [
    "input_model = [input_block, input_shop ,input_item ]\n",
    "\n",
    "output_embeddings = [output_block,output_shop,output_item]\n"
   ]
  },
  {
   "cell_type": "code",
   "execution_count": 139,
   "metadata": {},
   "outputs": [],
   "source": [
    "output_model = Concatenate()(output_embeddings)\n",
    "output_model = Dense(1000, kernel_initializer=\"uniform\")(output_model)\n",
    "output_model = Activation('relu')(output_model)\n",
    "output_model = Dense(500, kernel_initializer=\"uniform\")(output_model)\n",
    "output_model = Activation('relu')(output_model)\n",
    "output_model = Dense(1)(output_model)\n",
    "# output_model = Activation('sigmoid')(output_model)\n",
    "\n",
    "model = KerasModel(inputs=input_model, outputs=output_model)"
   ]
  },
  {
   "cell_type": "code",
   "execution_count": 153,
   "metadata": {},
   "outputs": [],
   "source": [
    "sgd = optimizers.SGD(lr=0.05, decay=1e-6, momentum=0.9, nesterov=True)\n",
    "model.compile(loss='mean_absolute_error', optimizer=sgd)"
   ]
  },
  {
   "cell_type": "code",
   "execution_count": 141,
   "metadata": {},
   "outputs": [],
   "source": [
    "dsmall=ds.sample(n=10**5)\n"
   ]
  },
  {
   "cell_type": "code",
   "execution_count": 154,
   "metadata": {},
   "outputs": [
    {
     "name": "stdout",
     "output_type": "stream",
     "text": [
      "Train on 70000 samples, validate on 30000 samples\n",
      "Epoch 1/5\n",
      "70000/70000 [==============================] - 10s 148us/step - loss: 0.3189 - val_loss: 0.3221\n",
      "Epoch 2/5\n",
      "70000/70000 [==============================] - 11s 150us/step - loss: 0.3128 - val_loss: 0.2914\n",
      "Epoch 3/5\n",
      "70000/70000 [==============================] - 11s 162us/step - loss: 0.3131 - val_loss: 0.3090\n",
      "Epoch 4/5\n",
      "70000/70000 [==============================] - 12s 165us/step - loss: 0.3118 - val_loss: 0.2743\n",
      "Epoch 5/5\n",
      "70000/70000 [==============================] - 11s 162us/step - loss: 0.3117 - val_loss: 0.2769\n"
     ]
    },
    {
     "data": {
      "text/plain": [
       "<keras.callbacks.History at 0x186ca5ac8>"
      ]
     },
     "execution_count": 154,
     "metadata": {},
     "output_type": "execute_result"
    }
   ],
   "source": [
    "model.fit(list(dsmall[embedding_columns].values.T),dsmall['item_cnt_month'],validation_split=0.3,epochs=5,verbose=1,batch_size=2048)"
   ]
  },
  {
   "cell_type": "code",
   "execution_count": null,
   "metadata": {},
   "outputs": [],
   "source": []
  }
 ],
 "metadata": {
  "kernelspec": {
   "display_name": "Python [default]",
   "language": "python",
   "name": "python3"
  },
  "language_info": {
   "codemirror_mode": {
    "name": "ipython",
    "version": 3
   },
   "file_extension": ".py",
   "mimetype": "text/x-python",
   "name": "python",
   "nbconvert_exporter": "python",
   "pygments_lexer": "ipython3",
   "version": "3.6.4"
  }
 },
 "nbformat": 4,
 "nbformat_minor": 2
}
